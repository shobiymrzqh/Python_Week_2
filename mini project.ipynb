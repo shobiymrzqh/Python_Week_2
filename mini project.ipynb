{
 "cells": [
  {
   "cell_type": "code",
   "execution_count": 1,
   "id": "2ba4cc02-7eba-46a3-baf1-7a77287947c0",
   "metadata": {},
   "outputs": [],
   "source": [
    "import numpy as np\n",
    "import pandas as pd"
   ]
  },
  {
   "cell_type": "code",
   "execution_count": 2,
   "id": "a9111322-f4a6-451b-98df-fa631c2caafc",
   "metadata": {},
   "outputs": [],
   "source": [
    "#set nilai tugas, uts, dan uas\n",
    "\n",
    "n = 20\n",
    "\n",
    "#nilai tugas\n",
    "mean_tugas = 85\n",
    "var_tugas = 7\n",
    "\n",
    "#nilai uts\n",
    "mean_uts = 60\n",
    "var_uts = 15\n",
    "\n",
    "#nilai uas\n",
    "mean_uas = 75\n",
    "var_uas = 10\n",
    "\n",
    "#generate nilai menggunakan np.random.normal\n",
    "nilai_tugas = np.random.normal(mean_tugas, var_tugas, n)\n",
    "nilai_uts = np.random.normal(mean_uts, var_uts, n)\n",
    "nilai_uas = np.random.normal(mean_uas, var_uas, n)"
   ]
  },
  {
   "cell_type": "code",
   "execution_count": 3,
   "id": "dd659cc1-1306-4d38-9fdf-98f1ba292de5",
   "metadata": {},
   "outputs": [],
   "source": [
    "#membuat data frame\n",
    "data_nilai = pd.DataFrame({\n",
    "    'tugas': nilai_tugas,\n",
    "    'uts': nilai_uts,\n",
    "    'uas': nilai_uas\n",
    "})"
   ]
  },
  {
   "cell_type": "code",
   "execution_count": 4,
   "id": "1e150069-ea3f-4a89-84e2-9229f919b5e7",
   "metadata": {},
   "outputs": [],
   "source": [
    "#menambahkan satu kolom baru (nilai akhir) dengan formula : tugas 20%, uts 40%, uas 40%\n",
    "\n",
    "data_nilai['nilai akhir'] = 0.2 * data_nilai['tugas'] + 0.4 * data_nilai['uts'] + 0.4 * data_nilai['uas']"
   ]
  },
  {
   "cell_type": "code",
   "execution_count": 9,
   "id": "f5b5dd77-ea49-4501-96e0-c971d54b6d22",
   "metadata": {},
   "outputs": [],
   "source": [
    "#membuat kolom baru (predikat) dan melakukan binning \n",
    "\n",
    "def get_grade(nilai_akhir):\n",
    "    if 85 <= nilai_akhir <= 100:\n",
    "        return 'A'\n",
    "    elif 80 <= nilai_akhir < 85:\n",
    "        return 'A-'\n",
    "    elif 75 <= nilai_akhir < 80:\n",
    "        return 'B+'\n",
    "    elif 70 <= nilai_akhir < 75:\n",
    "        return 'B'\n",
    "    elif 65 <= nilai_akhir < 70:\n",
    "        return 'B-'\n",
    "    elif 60 <= nilai_akhir < 65:\n",
    "        return 'C+'\n",
    "    elif 55 <= nilai_akhir < 60:\n",
    "        return 'C'\n",
    "    elif 50 <= nilai_akhir < 55:\n",
    "        return 'C-'\n",
    "    elif 20 <= nilai_akhir < 50:\n",
    "        return 'D'\n",
    "    elif 0 <= nilai_akhir < 20:\n",
    "        return 'E'\n",
    "\n",
    "data_nilai['predikat'] = data_nilai['nilai akhir'].apply(get_grade)"
   ]
  },
  {
   "cell_type": "code",
   "execution_count": 11,
   "id": "7c6da48b-c881-4ec9-bd72-5f366750ea75",
   "metadata": {},
   "outputs": [
    {
     "name": "stdout",
     "output_type": "stream",
     "text": [
      "         tugas        uts        uas  nilai akhir Predikat\n",
      "0    97.658054  69.495180  73.785794    76.844000       B+\n",
      "1    76.427923  51.335119  65.726228    62.110123       C+\n",
      "2    82.142619  61.281882  75.160251    71.005377        B\n",
      "3    92.916387  34.595945  65.305547    58.543874        C\n",
      "4    86.293141  64.944170  81.642246    75.893195       B+\n",
      "5    89.545575  28.335021  75.778217    59.554410        C\n",
      "6    96.377327  67.528334  77.903047    77.448018       B+\n",
      "7    84.460335  30.918549  63.861834    54.804220       C-\n",
      "8   100.794113  61.731312  75.124663    74.901213        B\n",
      "9    78.989796  49.193553  84.308083    69.198614       B-\n",
      "10   89.494249  54.356708  62.243064    64.538759       C+\n",
      "11   79.462903  58.323073  65.494652    65.419671       B-\n",
      "12   86.831869  55.297762  71.185640    67.959735       B-\n",
      "13   70.913961  59.524516  62.647115    63.051444       C+\n",
      "14   84.563529  66.659619  63.680919    69.048921       B-\n",
      "15   75.190642  53.764829  76.750213    67.244145       B-\n",
      "16   83.342678  45.633438  63.336077    60.256342       C+\n",
      "17   86.794014  81.208614  67.171151    76.710708       B+\n",
      "18   82.683629  67.522149  83.379742    76.897482       B+\n",
      "19   72.869243  57.082065  55.023427    59.416045        C\n"
     ]
    }
   ],
   "source": [
    "print(data_nilai)"
   ]
  },
  {
   "cell_type": "code",
   "execution_count": null,
   "id": "32854fdc-7126-45aa-a89e-787fa87d201d",
   "metadata": {},
   "outputs": [],
   "source": []
  }
 ],
 "metadata": {
  "kernelspec": {
   "display_name": "Python 3 (ipykernel)",
   "language": "python",
   "name": "python3"
  },
  "language_info": {
   "codemirror_mode": {
    "name": "ipython",
    "version": 3
   },
   "file_extension": ".py",
   "mimetype": "text/x-python",
   "name": "python",
   "nbconvert_exporter": "python",
   "pygments_lexer": "ipython3",
   "version": "3.11.7"
  }
 },
 "nbformat": 4,
 "nbformat_minor": 5
}
