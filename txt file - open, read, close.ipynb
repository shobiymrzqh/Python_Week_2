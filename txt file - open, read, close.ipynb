{
 "cells": [
  {
   "cell_type": "markdown",
   "id": "a7db2c14-3443-4953-8e27-0f7c2c1ea642",
   "metadata": {},
   "source": [
    "Open"
   ]
  },
  {
   "cell_type": "markdown",
   "id": "b2a35ea9-2175-4b0c-8641-bc26c15b38da",
   "metadata": {},
   "source": [
    "Open a text file using the open() function and need to provide the file name and access mode. The r access mode is used to read the file."
   ]
  },
  {
   "cell_type": "code",
   "execution_count": 1,
   "id": "a2f2e1de-7851-4dcf-93ac-7c41c1891d23",
   "metadata": {},
   "outputs": [],
   "source": [
    "workFile = open('nilai.txt', 'r')"
   ]
  },
  {
   "cell_type": "code",
   "execution_count": 2,
   "id": "a1c24ae4-6b6a-467c-9739-2a66be6aac58",
   "metadata": {},
   "outputs": [],
   "source": [
    "workFileContents = workFile.read()"
   ]
  },
  {
   "cell_type": "code",
   "execution_count": 3,
   "id": "219bb66f-3254-47bc-bfd1-c8bc63398ce5",
   "metadata": {},
   "outputs": [
    {
     "name": "stdout",
     "output_type": "stream",
     "text": [
      "Class, Score\n",
      "Math, 82\n",
      "Biology, 79\n",
      "Chemistry, 90\n"
     ]
    }
   ],
   "source": [
    "print(workFileContents)"
   ]
  },
  {
   "cell_type": "markdown",
   "id": "5f22f332-a0d1-4e20-8c2a-198bf7128a69",
   "metadata": {},
   "source": [
    "Read"
   ]
  },
  {
   "cell_type": "code",
   "execution_count": 4,
   "id": "29ec475b-696c-4956-a939-228652a1a338",
   "metadata": {},
   "outputs": [],
   "source": [
    "workFile = open('nilai.txt', 'r')"
   ]
  },
  {
   "cell_type": "code",
   "execution_count": 5,
   "id": "59cd8250-90a9-4803-a93e-a59b66b22734",
   "metadata": {},
   "outputs": [],
   "source": [
    "workFileFirstLine = workFile.readline()"
   ]
  },
  {
   "cell_type": "code",
   "execution_count": 6,
   "id": "028b87a6-6b21-4f0e-8bc4-929d9aa2930e",
   "metadata": {},
   "outputs": [
    {
     "name": "stdout",
     "output_type": "stream",
     "text": [
      "Class, Score\n",
      "\n"
     ]
    }
   ],
   "source": [
    "print(workFileFirstLine)"
   ]
  },
  {
   "cell_type": "code",
   "execution_count": 7,
   "id": "b408b26e-9d1e-40d6-9564-06edf9c30e52",
   "metadata": {},
   "outputs": [],
   "source": [
    "workFileSecondLine = workFile.readline()"
   ]
  },
  {
   "cell_type": "code",
   "execution_count": 8,
   "id": "1a9613f6-088b-4cdc-9ee4-b802319d7ec8",
   "metadata": {},
   "outputs": [
    {
     "name": "stdout",
     "output_type": "stream",
     "text": [
      "Math, 82\n",
      "\n"
     ]
    }
   ],
   "source": [
    "print(workFileSecondLine)"
   ]
  },
  {
   "cell_type": "markdown",
   "id": "7a979cca-4979-459d-a1f9-55761f6da745",
   "metadata": {},
   "source": [
    "Close"
   ]
  },
  {
   "cell_type": "code",
   "execution_count": 9,
   "id": "f3b7063b-0b60-4b26-958d-44ac4d2c74b0",
   "metadata": {},
   "outputs": [],
   "source": [
    "workFile.close()"
   ]
  }
 ],
 "metadata": {
  "kernelspec": {
   "display_name": "Python 3 (ipykernel)",
   "language": "python",
   "name": "python3"
  },
  "language_info": {
   "codemirror_mode": {
    "name": "ipython",
    "version": 3
   },
   "file_extension": ".py",
   "mimetype": "text/x-python",
   "name": "python",
   "nbconvert_exporter": "python",
   "pygments_lexer": "ipython3",
   "version": "3.11.7"
  }
 },
 "nbformat": 4,
 "nbformat_minor": 5
}
