{
 "cells": [
  {
   "cell_type": "markdown",
   "id": "388e00e5-410b-4911-b56d-b2d2374bb9a1",
   "metadata": {},
   "source": [
    "Datetime"
   ]
  },
  {
   "cell_type": "markdown",
   "id": "a3a14e16-dc81-4639-9524-ed99d95cff84",
   "metadata": {},
   "source": [
    "The datetime module can be used to work with dates and times, including\r\n",
    "1. Creating random dates and times\r\n",
    "2. Creating a Random Time within a Specified Time Range\r\n",
    "3. Combining Date and Time"
   ]
  },
  {
   "cell_type": "code",
   "execution_count": 1,
   "id": "b36d5800-c8ea-439e-b9f8-b367046b5451",
   "metadata": {},
   "outputs": [],
   "source": [
    "import datetime"
   ]
  },
  {
   "cell_type": "code",
   "execution_count": 2,
   "id": "902b7110-0770-4250-93ea-87a74fec87aa",
   "metadata": {},
   "outputs": [],
   "source": [
    "todayWithTime = datetime.datetime.today()"
   ]
  },
  {
   "cell_type": "code",
   "execution_count": 3,
   "id": "3bdf8f0b-e1ed-4d59-8d9d-792e9fb5a321",
   "metadata": {},
   "outputs": [
    {
     "data": {
      "text/plain": [
       "datetime.datetime(2024, 4, 19, 22, 33, 28, 95689)"
      ]
     },
     "execution_count": 3,
     "metadata": {},
     "output_type": "execute_result"
    }
   ],
   "source": [
    "todayWithTime"
   ]
  },
  {
   "cell_type": "code",
   "execution_count": 4,
   "id": "307340fc-a5e9-47ec-a9c2-467880c212f3",
   "metadata": {},
   "outputs": [],
   "source": [
    "todayWithoutTime = datetime.date.today()"
   ]
  },
  {
   "cell_type": "code",
   "execution_count": 5,
   "id": "1e26f68c-7dec-4f8a-829e-5b1a95ba68c1",
   "metadata": {},
   "outputs": [
    {
     "data": {
      "text/plain": [
       "datetime.date(2024, 4, 19)"
      ]
     },
     "execution_count": 5,
     "metadata": {},
     "output_type": "execute_result"
    }
   ],
   "source": [
    "todayWithoutTime"
   ]
  },
  {
   "cell_type": "code",
   "execution_count": 6,
   "id": "87d25989-0c96-4e7a-adcb-4a2a1ae7aae4",
   "metadata": {},
   "outputs": [],
   "source": [
    "formatting_time = datetime.datetime.strftime(todayWithTime, \"%H: %M: %S\")"
   ]
  },
  {
   "cell_type": "code",
   "execution_count": 7,
   "id": "4cc908e2-68d1-463b-893f-16d10774cc67",
   "metadata": {},
   "outputs": [
    {
     "data": {
      "text/plain": [
       "'22: 33: 28'"
      ]
     },
     "execution_count": 7,
     "metadata": {},
     "output_type": "execute_result"
    }
   ],
   "source": [
    "formatting_time"
   ]
  },
  {
   "cell_type": "code",
   "execution_count": 8,
   "id": "2ca84c1b-3e0c-4722-803d-346687a5d088",
   "metadata": {},
   "outputs": [],
   "source": [
    "formatting_date = datetime.datetime.strftime(todayWithoutTime, \"%m/%d/%Y\")"
   ]
  },
  {
   "cell_type": "code",
   "execution_count": 9,
   "id": "4748a034-e2aa-436c-ad7f-dd8f04919115",
   "metadata": {},
   "outputs": [
    {
     "data": {
      "text/plain": [
       "'04/19/2024'"
      ]
     },
     "execution_count": 9,
     "metadata": {},
     "output_type": "execute_result"
    }
   ],
   "source": [
    "formatting_date"
   ]
  },
  {
   "cell_type": "code",
   "execution_count": 10,
   "id": "b5f05fbf-1715-459b-bdcd-a1a30a9d7df6",
   "metadata": {},
   "outputs": [],
   "source": [
    "formatting_date = datetime.datetime.strftime(todayWithoutTime, \"%d-%m-%Y\")"
   ]
  },
  {
   "cell_type": "code",
   "execution_count": 11,
   "id": "92b7d666-34b9-46cf-bdc5-78736dd24f9a",
   "metadata": {},
   "outputs": [
    {
     "data": {
      "text/plain": [
       "'19-04-2024'"
      ]
     },
     "execution_count": 11,
     "metadata": {},
     "output_type": "execute_result"
    }
   ],
   "source": [
    "formatting_date"
   ]
  },
  {
   "cell_type": "code",
   "execution_count": 12,
   "id": "01429558-ec10-4d61-b9b0-d77974691988",
   "metadata": {},
   "outputs": [],
   "source": [
    "formatting_time = datetime.datetime.strftime(todayWithTime, \"%H. %M\")"
   ]
  },
  {
   "cell_type": "code",
   "execution_count": 13,
   "id": "2538ad19-3558-48fa-aec8-dbc4c333c5d2",
   "metadata": {},
   "outputs": [
    {
     "data": {
      "text/plain": [
       "'22. 33'"
      ]
     },
     "execution_count": 13,
     "metadata": {},
     "output_type": "execute_result"
    }
   ],
   "source": [
    "formatting_time"
   ]
  },
  {
   "cell_type": "code",
   "execution_count": 14,
   "id": "5706e282-dcbd-45e1-b8d4-759add186de0",
   "metadata": {},
   "outputs": [],
   "source": [
    "formatting_date = datetime.datetime.strftime(todayWithoutTime, \"%Y%m%d\")"
   ]
  },
  {
   "cell_type": "code",
   "execution_count": 15,
   "id": "211a941f-63f0-4373-b944-833792594afa",
   "metadata": {},
   "outputs": [
    {
     "data": {
      "text/plain": [
       "'20240419'"
      ]
     },
     "execution_count": 15,
     "metadata": {},
     "output_type": "execute_result"
    }
   ],
   "source": [
    "formatting_date"
   ]
  }
 ],
 "metadata": {
  "kernelspec": {
   "display_name": "Python 3 (ipykernel)",
   "language": "python",
   "name": "python3"
  },
  "language_info": {
   "codemirror_mode": {
    "name": "ipython",
    "version": 3
   },
   "file_extension": ".py",
   "mimetype": "text/x-python",
   "name": "python",
   "nbconvert_exporter": "python",
   "pygments_lexer": "ipython3",
   "version": "3.11.7"
  }
 },
 "nbformat": 4,
 "nbformat_minor": 5
}
