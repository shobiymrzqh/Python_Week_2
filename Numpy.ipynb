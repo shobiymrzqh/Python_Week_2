{
 "cells": [
  {
   "cell_type": "markdown",
   "id": "fc5f7dca-d10b-4ccd-b317-f716e85b3d51",
   "metadata": {},
   "source": [
    "<h1>Numpy"
   ]
  },
  {
   "cell_type": "markdown",
   "id": "56907ff0-4b7b-4eee-bae6-e65950e966f5",
   "metadata": {},
   "source": [
    "NumPy is a Python library that provides multidimensional array objects, various derived objects (such as masked arrays and matrices), and various routines for fast operations on arrays, including math, logic, shape manipulation, sorting, selection, I/O, discrete Fourier transform, basic linear algebra, basic statistical operations, random simulation, and more."
   ]
  },
  {
   "cell_type": "code",
   "execution_count": 1,
   "id": "fe4c4232-df61-4f7a-9d9e-657a370d316c",
   "metadata": {},
   "outputs": [],
   "source": [
    "#Import Numpy\n",
    "\n",
    "import numpy as np"
   ]
  },
  {
   "cell_type": "code",
   "execution_count": null,
   "id": "cc731e48-f79d-4b78-b3fd-4cb732f8628c",
   "metadata": {},
   "outputs": [],
   "source": [
    "#Checking Numpy Version\n",
    "\n",
    "print(np.__version__)"
   ]
  },
  {
   "cell_type": "code",
   "execution_count": null,
   "id": "fd0d5f41-04df-4c99-9fea-cdc0afa26089",
   "metadata": {},
   "outputs": [],
   "source": [
    "#Creating a Numpy Array\n",
    "\n",
    "arr = np.array([\"senin\",\"selasa\",\"rabu\"])\n",
    "print(arr)"
   ]
  },
  {
   "cell_type": "code",
   "execution_count": null,
   "id": "064e897d-4ccd-410b-8890-df4c6a737b63",
   "metadata": {},
   "outputs": [],
   "source": [
    "arr = np.array([\"senin\",\"selasa\",\"rabu\"])\n",
    "\n",
    "print(arr)\n",
    "\n",
    "print(type(arr))"
   ]
  },
  {
   "cell_type": "code",
   "execution_count": null,
   "id": "1fda40a8-2680-4ba2-acac-b02a500d2c7b",
   "metadata": {},
   "outputs": [],
   "source": [
    "#Use a tuple to create a Numpy array\n",
    "\n",
    "arr = np.array((\"senin\",\"selasa\",\"rabu\"))\n",
    "\n",
    "print(arr)\n",
    "\n",
    "print(type(arr))"
   ]
  },
  {
   "cell_type": "markdown",
   "id": "865da3e9-5eb1-4f08-821a-8554061ef5ef",
   "metadata": {},
   "source": [
    "<h3>Dimension In Arrays</h3>"
   ]
  },
  {
   "cell_type": "markdown",
   "id": "c113ca47-68bd-4fcc-8463-5fda510e15e4",
   "metadata": {},
   "source": [
    "A dimension in an array refers to one level of nested arrays within it."
   ]
  },
  {
   "cell_type": "code",
   "execution_count": null,
   "id": "453599dc-b634-4aa8-a660-24bdf752ce7c",
   "metadata": {},
   "outputs": [],
   "source": [
    "#Create a 0-D array\n",
    "\n",
    "arr = np.array(29)\n",
    "\n",
    "print(arr)"
   ]
  },
  {
   "cell_type": "code",
   "execution_count": null,
   "id": "ea6e4308-7d89-4a5d-9a7d-664f07263fd8",
   "metadata": {},
   "outputs": [],
   "source": [
    "#Create a 1-D array\n",
    "\n",
    "arr = np.array([2,4,6,8])\n",
    "\n",
    "print(arr)"
   ]
  },
  {
   "cell_type": "code",
   "execution_count": null,
   "id": "6425a7c5-617b-44f6-b139-fe63230c083b",
   "metadata": {},
   "outputs": [],
   "source": [
    "#Create a 2-D array containing two arrays\n",
    "\n",
    "arr = np.array([[2,4,6,8],[10,12,14,16],[18,20,22,24]])\n",
    "\n",
    "print(arr)"
   ]
  },
  {
   "cell_type": "code",
   "execution_count": null,
   "id": "4920388e-5bba-4b8d-be96-c7ba697ad222",
   "metadata": {},
   "outputs": [],
   "source": [
    "#Create a 3-D array with two 2-D arrays , both containing two arrays\n",
    "\n",
    "arr = np.array([[[2,4,6,8],[10,12,14,16]],[[18,20,22,24],[26,28,30,32]]])\n",
    "\n",
    "print(arr)"
   ]
  },
  {
   "cell_type": "code",
   "execution_count": null,
   "id": "e2ab4c39-4631-401c-b02b-247b23828526",
   "metadata": {},
   "outputs": [],
   "source": [
    "#Check how many dimensions the arrays have\n",
    "\n",
    "a = np.array(29)\n",
    "b = np.array([2,4,6,8])\n",
    "c = np.array([[2,4,6,8],[10,12,14,16],[18,20,22,24]])\n",
    "d = np.array([[[2,4,6,8],[10,12,14,16]],[[18,20,22,24],[26,28,30,32]]])\n",
    "\n",
    "print(a.ndim)\n",
    "print(b.ndim)\n",
    "print(c.ndim)\n",
    "print(d.ndim)"
   ]
  },
  {
   "cell_type": "code",
   "execution_count": null,
   "id": "6a6daf2d-aee5-4509-a24a-18247cbeae04",
   "metadata": {},
   "outputs": [],
   "source": [
    "#Create an array with 3 dimensions and verify that is has three dimensions\n",
    "\n",
    "arr_x = np.array([2,4,6,8], ndmin=3)\n",
    "\n",
    "print(arr_x)\n",
    "print(\"jumlah dimensi :\", arr_x.ndim)\n",
    "print(arr_x[0])"
   ]
  },
  {
   "cell_type": "code",
   "execution_count": null,
   "id": "6c945059-bc8e-44f0-8211-e58221871441",
   "metadata": {},
   "outputs": [],
   "source": [
    "# Get the first element from the following array\n",
    "\n",
    "arr = arr = np.array([2,4,6,8])\n",
    "\n",
    "print(arr[0])"
   ]
  },
  {
   "cell_type": "code",
   "execution_count": null,
   "id": "401802b5-7be2-408f-aabc-31de607f6b7b",
   "metadata": {},
   "outputs": [],
   "source": [
    "# Get the second element from the following array\n",
    "\n",
    "arr = arr = np.array([2,4,6,8])\n",
    "\n",
    "print(arr[1])"
   ]
  },
  {
   "cell_type": "code",
   "execution_count": null,
   "id": "7eb87292-16be-4aca-a34a-7cafb77017c1",
   "metadata": {},
   "outputs": [],
   "source": [
    "# Get the third element from the following array\n",
    "\n",
    "arr = arr = np.array([2,4,6,8])\n",
    "\n",
    "print(arr[2])"
   ]
  },
  {
   "cell_type": "code",
   "execution_count": null,
   "id": "6cdc86e8-f2d0-416c-b65a-7b0f3c762801",
   "metadata": {},
   "outputs": [],
   "source": [
    "# Get the second and third element from the following array and multiple them\n",
    "\n",
    "arr = arr = np.array([2,4,6,8])\n",
    "\n",
    "print(arr[1]*arr[2])"
   ]
  },
  {
   "cell_type": "code",
   "execution_count": null,
   "id": "5bb750df-d221-4872-b855-a0d81b3a2756",
   "metadata": {},
   "outputs": [],
   "source": [
    "# access the element on the first row, second coloumn\n",
    "\n",
    "arr = np.array([[2,4,6,8],[10,12,14,16],[18,20,22,24]])\n",
    "\n",
    "print(\"2nd element on 1st row:\", arr[0,1]) #[row,coloumn]"
   ]
  },
  {
   "cell_type": "code",
   "execution_count": null,
   "id": "96cea67c-1ad1-4b58-a460-c05af3eb2dac",
   "metadata": {},
   "outputs": [],
   "source": [
    "# access the element on the second row, fifth coloumn\n",
    "\n",
    "arr = np.array([[2,4,6,8,10],[12,14,16,18,20],[22,24,26,28,30]])\n",
    "\n",
    "print(\"5th element on 2st row:\", arr[1,4])"
   ]
  },
  {
   "cell_type": "code",
   "execution_count": null,
   "id": "0be01a9c-7541-4d82-82e0-6ab0c9ea9239",
   "metadata": {},
   "outputs": [],
   "source": [
    "# access the third element of the second array of the first array\n",
    "\n",
    "arr = np.array([[[2,4,6,8],[10,12,14,16]],[[18,20,22,24],[26,28,30,32]]])\n",
    "\n",
    "print(arr[1,0,2]) #[dim,row,coloumn]"
   ]
  },
  {
   "cell_type": "code",
   "execution_count": 2,
   "id": "7e035bdd-8e18-464e-a687-d7af06501023",
   "metadata": {},
   "outputs": [
    {
     "name": "stdout",
     "output_type": "stream",
     "text": [
      "Last element from 2nd dim:  24\n"
     ]
    }
   ],
   "source": [
    "# access an array from the end.\n",
    "\n",
    "arr = np.array([[2,4,6,8],[10,12,14,16],[18,20,22,24]])\n",
    "\n",
    "print('Last element from 2nd dim: ', arr[2, -1])"
   ]
  },
  {
   "cell_type": "markdown",
   "id": "9aaa9f1d-d6a8-4b97-904e-89927aa4f170",
   "metadata": {},
   "source": [
    "Task"
   ]
  },
  {
   "cell_type": "code",
   "execution_count": null,
   "id": "b787f523-af20-4648-bccd-8c3de22605ca",
   "metadata": {},
   "outputs": [],
   "source": [
    "arr = np.array([[[[2,4,6,8],[10,12,14,16]],[[18,20,22,24],[26,28,30,32]]]])\n",
    "\n",
    "print(arr[0,1,1,2]) \n",
    "\n",
    "#dim 0 = [[[2,4,6,8],[10,12,14,16]],[[18,20,22,24],[26,28,30,32]]]\n",
    "#row 1 = [[18,20,22,24],[26,28,30,32]]\n",
    "#elemen array 1 = [26,28,30,32]\n",
    "#array 2 = 30"
   ]
  },
  {
   "cell_type": "code",
   "execution_count": null,
   "id": "2b55c654-0e36-4318-8653-c71a95307ae8",
   "metadata": {},
   "outputs": [],
   "source": []
  }
 ],
 "metadata": {
  "kernelspec": {
   "display_name": "Python 3 (ipykernel)",
   "language": "python",
   "name": "python3"
  },
  "language_info": {
   "codemirror_mode": {
    "name": "ipython",
    "version": 3
   },
   "file_extension": ".py",
   "mimetype": "text/x-python",
   "name": "python",
   "nbconvert_exporter": "python",
   "pygments_lexer": "ipython3",
   "version": "3.11.7"
  }
 },
 "nbformat": 4,
 "nbformat_minor": 5
}
