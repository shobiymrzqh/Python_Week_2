{
 "cells": [
  {
   "cell_type": "markdown",
   "id": "57039abc-c152-4546-b2f1-79822cb422ce",
   "metadata": {},
   "source": [
    "# Function"
   ]
  },
  {
   "cell_type": "markdown",
   "id": "9334e5e3-1362-43ff-86a4-498f298acc72",
   "metadata": {},
   "source": [
    "A python program is made of many lines of code, stored in a file with a name like \"example.py\". It's natural to have a way to divide the lines code up into sensible sub-parts, and these are called functions. Almost all the code you work with in Python is inside a function.\n",
    "- A function is a block of code which only runs when it is called.\n",
    "- You can pass data, known as parameters, into a function.\n",
    "- In Python a function is defined using the \"def\" keyword\n",
    "- A function can return data as a result."
   ]
  },
  {
   "cell_type": "code",
   "execution_count": 1,
   "id": "41f164ed-7110-4a63-914c-07e089c826b7",
   "metadata": {},
   "outputs": [],
   "source": [
    "def squared(x):\n",
    "    quadrate = x**2\n",
    "    return quadrate"
   ]
  },
  {
   "cell_type": "code",
   "execution_count": 2,
   "id": "f1a60d78-2ac1-4e22-ae14-957749525bf1",
   "metadata": {},
   "outputs": [
    {
     "data": {
      "text/plain": [
       "4"
      ]
     },
     "execution_count": 2,
     "metadata": {},
     "output_type": "execute_result"
    }
   ],
   "source": [
    "squared(2)"
   ]
  },
  {
   "cell_type": "code",
   "execution_count": 3,
   "id": "57ae378f-5774-4e5d-836d-6357931af1f4",
   "metadata": {},
   "outputs": [
    {
     "data": {
      "text/plain": [
       "100"
      ]
     },
     "execution_count": 3,
     "metadata": {},
     "output_type": "execute_result"
    }
   ],
   "source": [
    "squared(10)"
   ]
  },
  {
   "cell_type": "code",
   "execution_count": 4,
   "id": "226854ed-06e2-4172-8ed7-186344dd34f8",
   "metadata": {},
   "outputs": [],
   "source": [
    "def circle (r):\n",
    "    area = 3.14 * (r * r)\n",
    "    return area"
   ]
  },
  {
   "cell_type": "code",
   "execution_count": 5,
   "id": "d38d9c6f-5d2c-4954-964c-18a677757e3c",
   "metadata": {},
   "outputs": [
    {
     "data": {
      "text/plain": [
       "153.86"
      ]
     },
     "execution_count": 5,
     "metadata": {},
     "output_type": "execute_result"
    }
   ],
   "source": [
    "circle(7)"
   ]
  },
  {
   "cell_type": "code",
   "execution_count": 6,
   "id": "51f4771d-7e4c-4d9d-9cb9-8069a11e61c5",
   "metadata": {},
   "outputs": [
    {
     "data": {
      "text/plain": [
       "314.0"
      ]
     },
     "execution_count": 6,
     "metadata": {},
     "output_type": "execute_result"
    }
   ],
   "source": [
    "circle(10)"
   ]
  },
  {
   "cell_type": "markdown",
   "id": "7bb36d60-dcd9-45e5-b761-8b9ea417238d",
   "metadata": {},
   "source": [
    "By default, python positions each parameter according to the order in which it was registered when defined, and should be called in that order."
   ]
  },
  {
   "cell_type": "markdown",
   "id": "65b54c56-00b0-470f-9a9c-a7fd69110ff9",
   "metadata": {},
   "source": [
    "### Return"
   ]
  },
  {
   "cell_type": "markdown",
   "id": "5ddba6d5-be2e-460e-b14f-b2d86bb2cae3",
   "metadata": {},
   "source": [
    "The Python return statement is a special statement inside a function or method to send the function’s result back to the caller. \n",
    "- A return statement consists of the return keyword followed by an optional return value.\n",
    "- functions can return numeric values (int, float, and complex values), collections and sequences of objects (list, tuple, dictionary, or set objects), user-defined objects, classes, functions, and even modules or packages."
   ]
  },
  {
   "cell_type": "code",
   "execution_count": 7,
   "id": "79ab2352-862b-4194-981a-fc3fe94d3d77",
   "metadata": {},
   "outputs": [],
   "source": [
    "p = 3.14\n",
    "\n",
    "def circle(r):\n",
    "    L = p * (r*r) #formuls the area of the circle\n",
    "    print(\"The area of the circle is {}\".format(L))\n",
    "    return L"
   ]
  },
  {
   "cell_type": "code",
   "execution_count": 8,
   "id": "5c4d1935-c395-4214-90d3-1b315b988bb5",
   "metadata": {},
   "outputs": [
    {
     "name": "stdout",
     "output_type": "stream",
     "text": [
      "The area of the circle is 615.44\n"
     ]
    },
    {
     "data": {
      "text/plain": [
       "615.44"
      ]
     },
     "execution_count": 8,
     "metadata": {},
     "output_type": "execute_result"
    }
   ],
   "source": [
    "circle(14)"
   ]
  },
  {
   "cell_type": "code",
   "execution_count": 9,
   "id": "0258e3bc-2ca7-4306-8714-ac8cb18b704a",
   "metadata": {},
   "outputs": [
    {
     "name": "stdout",
     "output_type": "stream",
     "text": [
      "The area of the circle is 615.44\n",
      "The circumference of the circle is 615.44\n"
     ]
    }
   ],
   "source": [
    "a = circle(14)\n",
    "print(\"The circumference of the circle is {}\".format(a))"
   ]
  },
  {
   "cell_type": "markdown",
   "id": "227fdd19-8032-4714-a94d-3b672aeface6",
   "metadata": {},
   "source": [
    "A function's output can be saved in a variable, setting it apart from a void function that doesn't produce any output. This distinctive characteristic determines if a value is provided by the function."
   ]
  },
  {
   "cell_type": "code",
   "execution_count": 10,
   "id": "b9d48d56-c077-4da7-9793-4e5c7276cea1",
   "metadata": {},
   "outputs": [],
   "source": [
    "p = 3.14\n",
    "\n",
    "def circle(r):\n",
    "    L = p * (r * r)      #formula the area of the circle\n",
    "    K = 2*p*r            #formula circumference of a circle\n",
    "    diameter = r**2      #formuladiameter of the circle\n",
    "    return L #following which one to return"
   ]
  },
  {
   "cell_type": "code",
   "execution_count": 11,
   "id": "37cc0aa4-246b-47d4-9b01-ced8fdb05c85",
   "metadata": {},
   "outputs": [
    {
     "name": "stdout",
     "output_type": "stream",
     "text": [
      "The circumference of the circle is 379.94\n"
     ]
    }
   ],
   "source": [
    "#Known the radius of a circle is 11 cm, what is the circumference of the circle?\n",
    "a = circle(11)\n",
    "print(\"The circumference of the circle is {}\".format(a))"
   ]
  },
  {
   "cell_type": "markdown",
   "id": "298cfe70-a279-45eb-9bee-2611d5fafd61",
   "metadata": {},
   "source": [
    "## Pass by reference vs value\n",
    "- all parameters (arguments) in python are pass by reference vs value meaning that when we change a var then the data that refers to it will also change, both within the function and outside the function.\n",
    "- except when performing assignment operations that will change the parameter reference"
   ]
  },
  {
   "cell_type": "markdown",
   "id": "47b78114-bada-4de0-aba4-fa4db980d9a2",
   "metadata": {},
   "source": [
    "### - pass by value\n",
    "The value of the variable is copied and passed to the function. Changes to parameters inside the function do not affect the original variables outside the function."
   ]
  },
  {
   "cell_type": "code",
   "execution_count": 12,
   "id": "a32c3361-3abf-4054-9825-65a79365f1d6",
   "metadata": {},
   "outputs": [],
   "source": [
    "p = 3.14\n",
    "\n",
    "def circle(r):\n",
    "    r = r * 2  # Modifying the parameter value\n",
    "    L = p * (r * r)\n",
    "    K = 2 * p * r\n",
    "    diameter = r**2\n",
    "    return L"
   ]
  },
  {
   "cell_type": "code",
   "execution_count": 13,
   "id": "18bb25f3-0e25-4523-94a5-fd096000e3f1",
   "metadata": {},
   "outputs": [],
   "source": [
    "radius = 10\n",
    "area = circle(radius)"
   ]
  },
  {
   "cell_type": "code",
   "execution_count": 14,
   "id": "8dbe0ee0-6642-46ed-ad37-a019b1eaeb92",
   "metadata": {},
   "outputs": [
    {
     "name": "stdout",
     "output_type": "stream",
     "text": [
      "Radius outside function: 10\n",
      "Area: 1256.0\n"
     ]
    }
   ],
   "source": [
    "print(\"Radius outside function:\", radius)  # Output: Radius outside function: 5\n",
    "print(\"Area:\", area)"
   ]
  },
  {
   "cell_type": "markdown",
   "id": "4163ccb1-be70-47d1-9682-44870a3ec72e",
   "metadata": {},
   "source": [
    "In the above example, although the value of r is changed inside the function, the value of radius outside the function remains unchanged."
   ]
  },
  {
   "cell_type": "markdown",
   "id": "701df43f-cb09-444a-920b-4944eab1f4b6",
   "metadata": {},
   "source": [
    "### - pass by reference\n",
    "The memory address of the variable is passed to the function. Changes to the parameters inside the function will affect the original variables outside the function."
   ]
  },
  {
   "cell_type": "code",
   "execution_count": 15,
   "id": "742ee119-4331-4860-874f-f18f354c1ba1",
   "metadata": {},
   "outputs": [],
   "source": [
    "p = 3.14\n",
    "\n",
    "def circle(radius_list):\n",
    "    radius_list[0] = radius_list[0] * 2  # Modifying the parameter value\n",
    "    r = radius_list[0]\n",
    "    L = p * (r * r)\n",
    "    K = 2 * p * r\n",
    "    diameter = r**2\n",
    "    return L"
   ]
  },
  {
   "cell_type": "code",
   "execution_count": 16,
   "id": "99ceb387-b5bb-4eb6-80b3-c78046e724d6",
   "metadata": {},
   "outputs": [],
   "source": [
    "radius_list = [6]\n",
    "area = circle(radius_list)"
   ]
  },
  {
   "cell_type": "code",
   "execution_count": 17,
   "id": "4b70a5a2-4e0c-42fd-a6c3-242293780bc6",
   "metadata": {},
   "outputs": [
    {
     "name": "stdout",
     "output_type": "stream",
     "text": [
      "Radius outside function: 12\n",
      "Area: 452.16\n"
     ]
    }
   ],
   "source": [
    "print(\"Radius outside function:\", radius_list[0])  # Output: Radius outside function: 10\n",
    "print(\"Area:\", area)"
   ]
  },
  {
   "cell_type": "code",
   "execution_count": 18,
   "id": "50fc211b-9680-4363-ba0b-764eb92fd8f4",
   "metadata": {},
   "outputs": [],
   "source": [
    "def change_dict(dictionary):\n",
    "    dictionary.append([\"Avocado, Apple\"]) #Change the dictionary inside the function\n",
    "    print(\"Contents in dictionary {}\".format(dictionary))"
   ]
  },
  {
   "cell_type": "code",
   "execution_count": 19,
   "id": "01612454-292e-4fb9-bb2e-a4db31fcfdcc",
   "metadata": {},
   "outputs": [
    {
     "name": "stdout",
     "output_type": "stream",
     "text": [
      "Contents in dictionary ['Grape, Mango', ['Avocado, Apple']]\n",
      "Original List : ['Grape, Mango', ['Avocado, Apple']]\n"
     ]
    }
   ],
   "source": [
    "dictionary = [\"Grape, Mango\"]\n",
    "change_dict(dictionary)\n",
    "print(\"Original List :\",dictionary)"
   ]
  },
  {
   "cell_type": "markdown",
   "id": "f6875d69-4fc1-4bb6-9e6a-8aa9b8d3e916",
   "metadata": {},
   "source": [
    "###### \n",
    "Since we only appended a value to the list without reassigning the variable, there is no decoupling or recoupling taking place. Both the inner and outer variables still refer to the same object, while the content of that object has been altered by the addition of the new value."
   ]
  }
 ],
 "metadata": {
  "kernelspec": {
   "display_name": "Python 3 (ipykernel)",
   "language": "python",
   "name": "python3"
  },
  "language_info": {
   "codemirror_mode": {
    "name": "ipython",
    "version": 3
   },
   "file_extension": ".py",
   "mimetype": "text/x-python",
   "name": "python",
   "nbconvert_exporter": "python",
   "pygments_lexer": "ipython3",
   "version": "3.11.7"
  }
 },
 "nbformat": 4,
 "nbformat_minor": 5
}
