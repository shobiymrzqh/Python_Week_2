{
 "cells": [
  {
   "cell_type": "markdown",
   "id": "593d0c7e-2da1-430f-98ff-dd8e425a473a",
   "metadata": {},
   "source": [
    "Random Library"
   ]
  },
  {
   "cell_type": "markdown",
   "id": "b0e8e4b5-8101-456d-9ee8-721f09096b60",
   "metadata": {},
   "source": [
    "The random library in Python is a built-in module that provides various functions to perform random operations. It is used to generate random numbers, randomly select items from a list, and randomize the order of elements in a list or array."
   ]
  },
  {
   "cell_type": "code",
   "execution_count": 1,
   "id": "86f40137-b083-4798-875c-da45845eb60f",
   "metadata": {},
   "outputs": [],
   "source": [
    "from random import randint"
   ]
  },
  {
   "cell_type": "code",
   "execution_count": 2,
   "id": "7d2026ed-569f-4102-8a04-be309808bf7a",
   "metadata": {},
   "outputs": [
    {
     "name": "stdout",
     "output_type": "stream",
     "text": [
      "Random num 0 is 1\n",
      "Random num 1 is 5\n",
      "Random num 2 is 6\n",
      "Random num 3 is 8\n",
      "Random num 4 is 3\n",
      "Random num 5 is 2\n",
      "Random num 6 is 8\n",
      "Random num 7 is 6\n"
     ]
    }
   ],
   "source": [
    "for i in range(8):\n",
    "    print(f\"Random num {i} is {randint(1,8)}\")"
   ]
  }
 ],
 "metadata": {
  "kernelspec": {
   "display_name": "Python 3 (ipykernel)",
   "language": "python",
   "name": "python3"
  },
  "language_info": {
   "codemirror_mode": {
    "name": "ipython",
    "version": 3
   },
   "file_extension": ".py",
   "mimetype": "text/x-python",
   "name": "python",
   "nbconvert_exporter": "python",
   "pygments_lexer": "ipython3",
   "version": "3.11.7"
  }
 },
 "nbformat": 4,
 "nbformat_minor": 5
}
